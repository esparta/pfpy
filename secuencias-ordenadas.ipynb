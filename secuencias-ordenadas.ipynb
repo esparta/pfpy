{
 "metadata": {
  "name": ""
 },
 "nbformat": 3,
 "nbformat_minor": 0,
 "worksheets": [
  {
   "cells": [
    {
     "cell_type": "markdown",
     "metadata": {},
     "source": [
      "A veces requerimos ordenar valores de una secuencia (list, set) en un orden diferente del \"default\", o definitivamente no hay ning\u00fan default definido.\n",
      "Tomemos por ejemplo una lista de objetos...\n"
     ]
    },
    {
     "cell_type": "code",
     "collapsed": false,
     "input": [
      "import random\n",
      "class item(object):\n",
      "    def __init__(self):\n",
      "        self.x = random.randint(1, 1000)\n",
      "    \n",
      "mi_lista = []    \n",
      "for n in range(15):\n",
      "    mi_lista.append(item())"
     ],
     "language": "python",
     "metadata": {},
     "outputs": [],
     "prompt_number": 4
    },
    {
     "cell_type": "markdown",
     "metadata": {},
     "source": [
      "En el anterior c\u00f3digo hemos creado una lista de 15 objetos `item`, cada objeto `item` tiene un valor x tomado aleatoriamente. Si recorremos dicha lista podremos ver que el orden es, pseudoaleatorio:"
     ]
    },
    {
     "cell_type": "code",
     "collapsed": false,
     "input": [
      "for elemento in mi_lista:\n",
      "    print elemento.x"
     ],
     "language": "python",
     "metadata": {},
     "outputs": [
      {
       "output_type": "stream",
       "stream": "stdout",
       "text": [
        "825\n",
        "74\n",
        "648\n",
        "183\n",
        "603\n",
        "452\n",
        "770\n",
        "373\n",
        "139\n",
        "188\n",
        "630\n",
        "140\n",
        "966\n",
        "939\n",
        "559\n"
       ]
      }
     ],
     "prompt_number": 5
    },
    {
     "cell_type": "markdown",
     "metadata": {},
     "source": [
      "Podemos ordenar los elementos de la lista por cualquier elemento arbitrario que desearamos. En este caso crearemos una lista nueva, en donde el orden estar\u00e1 dado por la propiedad `x` de cada objeto agregado a la lista. Para ello podemos usar el par\u00e1metro `key`:"
     ]
    },
    {
     "cell_type": "code",
     "collapsed": false,
     "input": [
      "lista_ordenada = sorted(mi_lista, key = lambda elemento: elemento.x)\n",
      "for elemento in lista_ordenada:\n",
      "    print elemento.x\n",
      "    "
     ],
     "language": "python",
     "metadata": {},
     "outputs": [
      {
       "output_type": "stream",
       "stream": "stdout",
       "text": [
        "74\n",
        "139\n",
        "140\n",
        "183\n",
        "188\n",
        "373\n",
        "452\n",
        "559\n",
        "603\n",
        "630\n",
        "648\n",
        "770\n",
        "825\n",
        "939\n",
        "966\n"
       ]
      }
     ],
     "prompt_number": 7
    },
    {
     "cell_type": "code",
     "collapsed": false,
     "input": [],
     "language": "python",
     "metadata": {},
     "outputs": []
    }
   ],
   "metadata": {}
  }
 ]
}