{
 "metadata": {
  "name": ""
 },
 "nbformat": 3,
 "nbformat_minor": 0,
 "worksheets": [
  {
   "cells": [
    {
     "cell_type": "markdown",
     "metadata": {},
     "source": [
      "Entendiendo Yield\n",
      "===\n",
      "\n",
      "Para entender qu\u00e9 hace `yield` debes entender qu\u00e9 son los generadores. Y antes de los generadores est\u00e1n los iterables \n",
      "\n",
      "##Iterables\n",
      "Cuando creas una lista puedes leer sus items uno a uno, y a eso se le llama iteraci\u00f3n:"
     ]
    },
    {
     "cell_type": "code",
     "collapsed": false,
     "input": [
      "mylist = [1, 2, 3]\n",
      "for i in mylist:\n",
      "    print(i)"
     ],
     "language": "python",
     "metadata": {},
     "outputs": [
      {
       "output_type": "stream",
       "stream": "stdout",
       "text": [
        "1\n",
        "2\n",
        "3\n"
       ]
      }
     ],
     "prompt_number": 1
    },
    {
     "cell_type": "markdown",
     "metadata": {},
     "source": [
      "## El protocolo iterador \n",
      "\n",
      "Aqu\u00ed `mylist` es un iterable. Python realiza los siguientes dos pasos:\n",
      "\n",
      "1.- Obtiene un iterador desde `mylist`:\n",
      "    Ejecuta iter(mylist) -> Esto retorna un objeto con un m\u00e9todo `next()` (o `__next__()` en Python 3).\n",
      "    [Este es un paso que mucha gente olvida decirnos]\n",
      "    \n",
      "2.- Usa el iterador para recorrer los items:\n",
      "    Sigue llamando al m\u00e9todo `next()` en el iterador devuelto en el paso 1. El valor retornado por `next()` es asignado a i y el cuerpo del ciclo se ejecuta. Si se llega a una excepci\u00f3n del tipo `StopIteration` significa que no hay m\u00e1s valores en el iterador y el ciclo termina.\n",
      "    \n",
      "La verdad es que Python realiza \u00e9stos pasos en cualquier momento que desea recorrer el contenido de un objeto - como en el ciclo for, pero podr\u00eda ser el caso del m\u00e9todo otherlist.extend(mylist) (donde otherlist es una lista de Python).\n",
      "\n",
      "`mylist` es un iterable porque implementa el protocolo iterador. Puedes implementar el m\u00e9todo `__iter__()` para hacer que las instancias de tu clases sean iterables. Este m\u00e9todo debe retornar un iterador. Un iterador es un objeto con el m\u00e9todo `next()`. Es posible implementar ambos `__iter__()` y `next()` en la misma clase, y hacer que `__iter__()` se regrese a s\u00ed mismo. Esto funcionar\u00e1 para clases simples, pero no cuando quieres dos iteradores recorran el objeto al mismo tiempo.\n",
      "\n",
      "Entonces este es el protocolo iterador, muchos objetos implementan \u00e9ste protocolo:\n",
      "\n",
      "1. Built-in lists, dictionaries, tuples, sets, files.\n",
      "2. User defined classes that implement `__iter__()`.\n",
      "3. Generators.\n",
      "\n",
      "Cuando usas un `list comprehension` tambi\u00e9n creas una lista, por lo tanto tambi\u00e9n un iterable:"
     ]
    },
    {
     "cell_type": "code",
     "collapsed": false,
     "input": [
      "mylist = [x*x for x in range(3)]\n",
      "for i in mylist:\n",
      "    print(i)"
     ],
     "language": "python",
     "metadata": {},
     "outputs": [
      {
       "output_type": "stream",
       "stream": "stdout",
       "text": [
        "0\n",
        "1\n",
        "4\n"
       ]
      }
     ],
     "prompt_number": 2
    },
    {
     "cell_type": "markdown",
     "metadata": {},
     "source": [
      "Todo en lo que uses \"for ... in..\" es un iterable: listas, cadenas, archivos. Estos iterables son \u00fatiles debido a que puedes leer los tantas veces como quieres, pero almacenas todos los valores en memoria y eso no siempre es lo que quieres hacer cuando tienes un mont\u00f3n de valores. Hay que notar que el ciclo for no sabe qu\u00e9 tipo de objeto est\u00e1 tratando - \u00e9l s\u00f3lo sigue el protocolo iterador (s\u00ed, es el [duck-typing](https://en.wikipedia.org/wiki/Duck_typing)), y est\u00e1 feliz de obtener uno tras otro item conforme va llamado a `next()`. Las listas retornan sus items uno a uno, los diccionarios ({}) retornan sus keys uno a uno, los archivos retornan listas una tras otra, etc. Y los generadores retornan... bueno, es aqu\u00ed donde entra `yield`.\n",
      "\n",
      "Como resumen podemos decir que el protocolo iterador es un proceso que implica Iterables (implementando el m\u00e9todo `__iter__()`) e Iteradores (implementando el m\u00e9todo `__next__()`). Los Iterables son cualquier objeto del que puedes obtener un iterador. Los Iteradores son objetos que permiten iterar iterables. M\u00e1s acerca de esto en \u00e9ste art\u00edculo sobre [c\u00f3mo trabaja el ciclo for](http://effbot.org/zone/python-for-statement.htm) (en ingl\u00e9s).\n",
      "\n",
      "##Generators\n",
      "\n",
      "Los Generadores son iteradores, con la salvedad de que puedes iterar en ellos s\u00f3lo una vez. Esto se debe a que no almacenan todos los valores en memoria, generan los valores al vuelo:"
     ]
    },
    {
     "cell_type": "code",
     "collapsed": false,
     "input": [
      "mygenerator = (x*x for x in range(3))\n",
      "for i in mygenerator:\n",
      "    print(i)"
     ],
     "language": "python",
     "metadata": {},
     "outputs": [
      {
       "output_type": "stream",
       "stream": "stdout",
       "text": [
        "0\n",
        "1\n",
        "4\n"
       ]
      }
     ],
     "prompt_number": 3
    },
    {
     "cell_type": "markdown",
     "metadata": {},
     "source": [
      "Es la misma expresi\u00f3n, excepto que usamos () en vez de []. PERO, no puedes realizar un `for i in mygenerator` una segunda vez porque los generadores solo pueden ser usados una vez: calcula 0, luego lo olvida y calcula 1, y termina calculando 4, uno a uno.\n",
      "\n",
      "##Yield\n",
      "\n",
      "Yield es una palabra clave que es usada como `return`, excepto que la funci\u00f3n regresar\u00e1 un generador."
     ]
    },
    {
     "cell_type": "code",
     "collapsed": true,
     "input": [
      "def createGenerator():\n",
      "    mylist = range(3)\n",
      "    for i in mylist:\n",
      "        yield i*i\n",
      "\n",
      "mygenerator = createGenerator() # crear un generator\n",
      "print(mygenerator) # \u00a1mygenerator es un objeto!\n"
     ],
     "language": "python",
     "metadata": {},
     "outputs": [
      {
       "output_type": "stream",
       "stream": "stdout",
       "text": [
        "<generator object createGenerator at 0x2c5e4b0>\n"
       ]
      }
     ],
     "prompt_number": 4
    },
    {
     "cell_type": "code",
     "collapsed": false,
     "input": [
      "for i in mygenerator:\n",
      "    print(i)"
     ],
     "language": "python",
     "metadata": {},
     "outputs": [
      {
       "output_type": "stream",
       "stream": "stdout",
       "text": [
        "0\n",
        "1\n",
        "4\n"
       ]
      }
     ],
     "prompt_number": 5
    },
    {
     "cell_type": "markdown",
     "metadata": {},
     "source": [
      "Es un ejemplo in\u00fatil, pero es \u00fatil cuando sabes que una funci\u00f3n regresar\u00e1 un enorme conjunto de valores que s\u00f3lo necesitas leer una vez.\n",
      "\n",
      "Para dominar `yield`, debes entender que cuando llamas a la funci\u00f3n, el c\u00f3digo que has escrito en el cuerpo de la funci\u00f3n no se ejecuta. La funci\u00f3n s\u00f3lo retorna un objeto generator, esto es un poco truculento :-)\n",
      "\n",
      "Entonces, tu c\u00f3digo ser\u00e1 ejecutado cada vez que el `for` usa el generador. \n",
      "###Ahora la parte dif\u00edcil:\n",
      "\n",
      "La primera vez que el `for` llama al objeto generador creado desde tu funci\u00f3n, este ejecutar\u00e1 el c\u00f3digo en la funci\u00f3n desde el inicio hasta que llegue a `yield`, entonces retornar\u00e1 el primer valor en el ciclo. Despu\u00e9s, cada siguiente llamada ejecutar\u00e1 el ciclo que escribiste en la funci\u00f3n una vez m\u00e1s, y regresar\u00e1 el siguiente valor, hasta que no hay m\u00e1s valores que regresar.\n",
      "\n",
      "El generador se considera vac\u00edo una vez que la funci\u00f3n se ejecuta pero ya no llega a un `yield`. Esto puede ser debido a que el ciclo ha llegado a su fin, o porque ya no satisface un \"if/else\".\n",
      "\n",
      "\n"
     ]
    },
    {
     "cell_type": "code",
     "collapsed": false,
     "input": [
      "def f123():\n",
      "    yield 1\n",
      "    yield 2\n",
      "    yield 3\n",
      "\n",
      "for item in f123():\n",
      "    print item"
     ],
     "language": "python",
     "metadata": {},
     "outputs": [
      {
       "output_type": "stream",
       "stream": "stdout",
       "text": [
        "1\n",
        "2\n",
        "3\n"
       ]
      }
     ],
     "prompt_number": 6
    },
    {
     "cell_type": "markdown",
     "metadata": {},
     "source": [
      "En el ejemplo anterior, si en vez de `yield` tuvieramos tres sentencias `return` s\u00f3lo uno del primero ser\u00eda ejecutado, y la funci\u00f3n terminar\u00eda. pero `f123()` no es una funci\u00f3n ordinaria. Cuando `f123()` es ejecutada, \u00a1\u00e9sta no regresa ninguno de los valores en la sentencia `yield`!, retorna un objeto Generador. Tambi\u00e9n, la funci\u00f3n no termina realmente -- se va un estado de suspensi\u00f3n. Cuando el ciclo for intenta iterar en el objeto iterador la funci\u00f3n contin\u00faa desde su estado suspensivo, ejecuta la siguiente sentencia y regresa a lo que sera el siguiente item. Esto pasa hasta que funci\u00f3n termina, es el momento en que el generador lanza una excepci\u00f3n `StopIteration` y el ciclo termina.\n",
      "\n",
      "As\u00ed, el objeto generador es algo parecido a un adaptador - en un lado exhibe el protocolo iterador, al exponer los m\u00e9todos `__iter__()` y `next()` que mantienen al ciclo for feliz. En el otro lado, sin embargo, ejecuta la funci\u00f3n s\u00f3lo lo suficiente para obtener el siguiente valor de \u00e9l, y regresa al modo suspendido.\n",
      "\n",
      "##Controlando el agotamiento del generador"
     ]
    },
    {
     "cell_type": "code",
     "collapsed": true,
     "input": [
      "class Bank(): # creemos un banco, que a su vez crea cajeros autom\u00e1ticos\n",
      "    crisis = False\n",
      "    def create_atm(self):\n",
      "        while not self.crisis:\n",
      "            yield \"$100\"\n",
      "hsbc = Bank() # cuando todo est\u00e1 bien el cajero te dar\u00e1 tanto dinero como lo desees\n",
      "corner_street_atm = hsbc.create_atm()\n",
      "print(corner_street_atm.next())"
     ],
     "language": "python",
     "metadata": {},
     "outputs": [
      {
       "output_type": "stream",
       "stream": "stdout",
       "text": [
        "$100\n"
       ]
      }
     ],
     "prompt_number": 7
    },
    {
     "cell_type": "code",
     "collapsed": false,
     "input": [
      "print(corner_street_atm.next())"
     ],
     "language": "python",
     "metadata": {},
     "outputs": [
      {
       "output_type": "stream",
       "stream": "stdout",
       "text": [
        "$100\n"
       ]
      }
     ],
     "prompt_number": 8
    },
    {
     "cell_type": "code",
     "collapsed": false,
     "input": [
      "print([corner_street_atm.next() for cash in range(5)])"
     ],
     "language": "python",
     "metadata": {},
     "outputs": [
      {
       "output_type": "stream",
       "stream": "stdout",
       "text": [
        "['$100', '$100', '$100', '$100', '$100']\n"
       ]
      }
     ],
     "prompt_number": 9
    },
    {
     "cell_type": "code",
     "collapsed": false,
     "input": [
      "hsbc.crisis = True # llega la crisis, \u00a1no hay m\u00e1s dinero!\n",
      "print(corner_street_atm.next())"
     ],
     "language": "python",
     "metadata": {},
     "outputs": [
      {
       "ename": "StopIteration",
       "evalue": "",
       "output_type": "pyerr",
       "traceback": [
        "\u001b[1;31m---------------------------------------------------------------------------\u001b[0m\n\u001b[1;31mStopIteration\u001b[0m                             Traceback (most recent call last)",
        "\u001b[1;32m<ipython-input-10-cb648781cb69>\u001b[0m in \u001b[0;36m<module>\u001b[1;34m()\u001b[0m\n\u001b[0;32m      1\u001b[0m \u001b[0mhsbc\u001b[0m\u001b[1;33m.\u001b[0m\u001b[0mcrisis\u001b[0m \u001b[1;33m=\u001b[0m \u001b[0mTrue\u001b[0m \u001b[1;31m# llega la crisis, \u00a1no hay m\u00e1s dinero!\u001b[0m\u001b[1;33m\u001b[0m\u001b[0m\n\u001b[1;32m----> 2\u001b[1;33m \u001b[1;32mprint\u001b[0m\u001b[1;33m(\u001b[0m\u001b[0mcorner_street_atm\u001b[0m\u001b[1;33m.\u001b[0m\u001b[0mnext\u001b[0m\u001b[1;33m(\u001b[0m\u001b[1;33m)\u001b[0m\u001b[1;33m)\u001b[0m\u001b[1;33m\u001b[0m\u001b[0m\n\u001b[0m",
        "\u001b[1;31mStopIteration\u001b[0m: "
       ]
      }
     ],
     "prompt_number": 10
    },
    {
     "cell_type": "code",
     "collapsed": false,
     "input": [
      "wall_street_atm = hsbc.create_atm() # esto es igual para nuevos cajeros autom\u00e1ticos\n",
      "print(wall_street_atm.next())\n"
     ],
     "language": "python",
     "metadata": {},
     "outputs": [
      {
       "ename": "StopIteration",
       "evalue": "",
       "output_type": "pyerr",
       "traceback": [
        "\u001b[1;31m---------------------------------------------------------------------------\u001b[0m\n\u001b[1;31mStopIteration\u001b[0m                             Traceback (most recent call last)",
        "\u001b[1;32m<ipython-input-11-f449a7157a34>\u001b[0m in \u001b[0;36m<module>\u001b[1;34m()\u001b[0m\n\u001b[0;32m      1\u001b[0m \u001b[0mwall_street_atm\u001b[0m \u001b[1;33m=\u001b[0m \u001b[0mhsbc\u001b[0m\u001b[1;33m.\u001b[0m\u001b[0mcreate_atm\u001b[0m\u001b[1;33m(\u001b[0m\u001b[1;33m)\u001b[0m \u001b[1;31m# esto es igual para nuevos cajeros autom\u00e1ticos\u001b[0m\u001b[1;33m\u001b[0m\u001b[0m\n\u001b[1;32m----> 2\u001b[1;33m \u001b[1;32mprint\u001b[0m\u001b[1;33m(\u001b[0m\u001b[0mwall_street_atm\u001b[0m\u001b[1;33m.\u001b[0m\u001b[0mnext\u001b[0m\u001b[1;33m(\u001b[0m\u001b[1;33m)\u001b[0m\u001b[1;33m)\u001b[0m\u001b[1;33m\u001b[0m\u001b[0m\n\u001b[0m",
        "\u001b[1;31mStopIteration\u001b[0m: "
       ]
      }
     ],
     "prompt_number": 11
    },
    {
     "cell_type": "code",
     "collapsed": false,
     "input": [
      "hsbc.crisis = False # el problema persiste, a\u00fan en la post-cris el cajero autom\u00e1tico sigue vac\u00edo\n",
      "print(corner_street_atm.next())"
     ],
     "language": "python",
     "metadata": {},
     "outputs": [
      {
       "ename": "StopIteration",
       "evalue": "",
       "output_type": "pyerr",
       "traceback": [
        "\u001b[1;31m---------------------------------------------------------------------------\u001b[0m\n\u001b[1;31mStopIteration\u001b[0m                             Traceback (most recent call last)",
        "\u001b[1;32m<ipython-input-12-fdb7a57a97b0>\u001b[0m in \u001b[0;36m<module>\u001b[1;34m()\u001b[0m\n\u001b[0;32m      1\u001b[0m \u001b[0mhsbc\u001b[0m\u001b[1;33m.\u001b[0m\u001b[0mcrisis\u001b[0m \u001b[1;33m=\u001b[0m \u001b[0mFalse\u001b[0m \u001b[1;31m# el problema persiste, a\u00fan en la post-cris el cajero autom\u00e1tico sigue vac\u00edo\u001b[0m\u001b[1;33m\u001b[0m\u001b[0m\n\u001b[1;32m----> 2\u001b[1;33m \u001b[1;32mprint\u001b[0m\u001b[1;33m(\u001b[0m\u001b[0mcorner_street_atm\u001b[0m\u001b[1;33m.\u001b[0m\u001b[0mnext\u001b[0m\u001b[1;33m(\u001b[0m\u001b[1;33m)\u001b[0m\u001b[1;33m)\u001b[0m\u001b[1;33m\u001b[0m\u001b[0m\n\u001b[0m",
        "\u001b[1;31mStopIteration\u001b[0m: "
       ]
      }
     ],
     "prompt_number": 12
    },
    {
     "cell_type": "code",
     "collapsed": false,
     "input": [
      "brand_new_atm = hsbc.create_atm() # creemos un nuevo cajero para regresar al negocio\n",
      "for cash in [brand_new_atm.next() for cash in range(10)]:\n",
      "  print cash"
     ],
     "language": "python",
     "metadata": {},
     "outputs": [
      {
       "output_type": "stream",
       "stream": "stdout",
       "text": [
        "$100\n",
        "$100\n",
        "$100\n",
        "$100\n",
        "$100\n",
        "$100\n",
        "$100\n",
        "$100\n",
        "$100\n",
        "$100\n"
       ]
      }
     ],
     "prompt_number": 13
    },
    {
     "cell_type": "markdown",
     "metadata": {},
     "source": [
      "Esto puede ser \u00f9til para varias cosas como controlar accesos a un recurso.\n",
      "\n",
      "##Itertools, tu mejor amigo\n",
      "\n",
      "El m\u00f3dulo `itertools` contiene funciones especiales para manipular iterables. \u00bfAlguna vez quisiste duplicar un generador? \u00bfEncadenar dos generadores? \u00bfAgrupar valores en una lista anidada, con una l\u00ednea de c\u00f3digo? \u00bfMapear / Comprimir sin crear otra lista?\n",
      "\n",
      "Entonces s\u00f3lo usa itertools.\n",
      "\n",
      "\u00bfUn ejemplo? Vamos a ver los posibles ordenes de llegada para 4 carreras de caballos:"
     ]
    },
    {
     "cell_type": "code",
     "collapsed": false,
     "input": [
      "import itertools\n",
      "horses = [1, 2, 3, 4]\n",
      "races = itertools.permutations(horses)\n",
      "print(races)"
     ],
     "language": "python",
     "metadata": {},
     "outputs": [
      {
       "output_type": "stream",
       "stream": "stdout",
       "text": [
        "<itertools.permutations object at 0x2d4eb30>\n"
       ]
      }
     ],
     "prompt_number": 14
    },
    {
     "cell_type": "code",
     "collapsed": false,
     "input": [
      "for v in races:\n",
      "  print v"
     ],
     "language": "python",
     "metadata": {},
     "outputs": [
      {
       "output_type": "stream",
       "stream": "stdout",
       "text": [
        "(1, 2, 3, 4)\n",
        "(1, 2, 4, 3)\n",
        "(1, 3, 2, 4)\n",
        "(1, 3, 4, 2)\n",
        "(1, 4, 2, 3)\n",
        "(1, 4, 3, 2)\n",
        "(2, 1, 3, 4)\n",
        "(2, 1, 4, 3)\n",
        "(2, 3, 1, 4)\n",
        "(2, 3, 4, 1)\n",
        "(2, 4, 1, 3)\n",
        "(2, 4, 3, 1)\n",
        "(3, 1, 2, 4)\n",
        "(3, 1, 4, 2)\n",
        "(3, 2, 1, 4)\n",
        "(3, 2, 4, 1)\n",
        "(3, 4, 1, 2)\n",
        "(3, 4, 2, 1)\n",
        "(4, 1, 2, 3)\n",
        "(4, 1, 3, 2)\n",
        "(4, 2, 1, 3)\n",
        "(4, 2, 3, 1)\n",
        "(4, 3, 1, 2)\n",
        "(4, 3, 2, 1)\n"
       ]
      }
     ],
     "prompt_number": 15
    },
    {
     "cell_type": "markdown",
     "metadata": {},
     "source": [
      "\n",
      "##Cr\u00e9ditos\n",
      "\n",
      "Compilaci\u00f3n de los mensajes de [StackOverflow](https://stackoverflow.com/a/231855/349420) y [2](https://stackoverflow.com/a/237028), por [e-satis](https://stackoverflow.com/users/9951/e-satis) y [\n",
      "user28409](https://stackoverflow.com/users/28409/user28409), respectivamente.\n",
      "\n",
      "Traducci\u00f3n: [Espartaco Palma][espartaweb] ([@esparta][espartwitter])\n",
      "\n",
      "![Licencia Creative Commons][ccimage]\n",
      "\n",
      "Este obra est\u00e1 bajo una licencia [Licencia Creative Commons Atribuci\u00f3n 3.0][cc].\n",
      "\n",
      "[espartwitter]: https://twitter.com/esparta/\n",
      "[espartaweb]: http://esparta.co\n",
      "[ccimage]: https://i.creativecommons.org/l/by/3.0/88x31.png \"Licencia Creative Commons\"\n",
      "[cc]: https://creativecommons.org/licenses/by/3.0/us/deed.es\n"
     ]
    }
   ],
   "metadata": {}
  }
 ]
}
