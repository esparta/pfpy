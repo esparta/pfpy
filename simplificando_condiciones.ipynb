{
 "metadata": {
  "name": "",
  "signature": "sha256:35a66f25f38f24ad27311eb328ab3e9f065470efbace6de69fef2c61247ee0c0"
 },
 "nbformat": 3,
 "nbformat_minor": 0,
 "worksheets": [
  {
   "cells": [
    {
     "cell_type": "markdown",
     "metadata": {},
     "source": [
      "La simplificaci\u00f3n para hacer el c\u00f3digo m\u00e1s legible en Python es uno de los puntos fuertes del lenguaje. En esta ocasi\u00f3n podemos ver c\u00f3mo simplificar un par de condiciones al momento de asignar valores a variables.\n",
      "\n",
      "Caso 1: El return extra\n",
      "===\n",
      "\n",
      "Supongamos que tenemos una funci\u00f3n que regresar\u00e1 un valor booleano (`True`, `False`). Podemos pasar de esto:\n"
     ]
    },
    {
     "cell_type": "code",
     "collapsed": false,
     "input": [
      "def es_par(valor):\n",
      "    \"\"\"\n",
      "    Retorna True si el valor ingresado es par, False en caso contrario.\n",
      "    \"\"\"\n",
      "    if valor % 2 == 0\n",
      "       return True\n",
      "    return False\n"
     ],
     "language": "python",
     "metadata": {},
     "outputs": []
    },
    {
     "cell_type": "markdown",
     "metadata": {},
     "source": [
      "A algo como esto:"
     ]
    },
    {
     "cell_type": "code",
     "collapsed": false,
     "input": [
      "def es_par(valor):\n",
      "    \"\"\"\n",
      "    Retorna True si el valor ingresado es par, False en caso contrario.\n",
      "    \"\"\"\n",
      "    return valor % 2 == 0"
     ],
     "language": "python",
     "metadata": {},
     "outputs": []
    },
    {
     "cell_type": "markdown",
     "metadata": {},
     "source": [
      "La explicaci\u00f3n es bastante sencilla. Si tu valor a prueba va a retornar un boleano, no necesitas poner un bloque `if`, el mismo return har\u00e1 la magia.\n",
      "\n",
      "Caso 2: Dos if en uno\n",
      "===\n",
      "\n",
      "A veces el flujo de nuestra aplicaci\u00f3n depender\u00e1 de algo m\u00e1s que una asignaci\u00f3n; quiz\u00e1s un par, dependiendo de uno o dos factores. Tambi\u00e9n podr\u00eda ser simplicado.\n",
      "Supongamos que tenemos una funci\u00f3n que podr\u00eda regresar alg\u00fan valor entero, o `None` y queremos que una variable sea igual a 0 en caso de que \u00e9sta sea `None` (y que por cuestiones de dise\u00f1o no podemos cambiar esa funci\u00f3n). Podemos pasar de esto:"
     ]
    },
    {
     "cell_type": "code",
     "collapsed": false,
     "input": [
      "import random\n",
      "def aleatorio():\n",
      "    \"\"\"\n",
      "    Funci\u00f3n de prueba, regresar\u00e1 algunos n\u00fameros enteros, o None.\n",
      "    \"\"\"\n",
      "    valores = (None, 1, 15, 23, 42)\n",
      "    return random.choice(valores)\n",
      "\n",
      "for _ in range(10):\n",
      "    x = aleatorio()\n",
      "    if x is None:\n",
      "        print 0\n",
      "    else:\n",
      "        print x  \n"
     ],
     "language": "python",
     "metadata": {},
     "outputs": [
      {
       "output_type": "stream",
       "stream": "stdout",
       "text": [
        "42\n",
        "42\n",
        "42\n",
        "0\n",
        "0\n",
        "23\n",
        "42\n",
        "42\n",
        "23\n",
        "0\n"
       ]
      }
     ],
     "prompt_number": 1
    },
    {
     "cell_type": "markdown",
     "metadata": {},
     "source": [
      "Por algo como esto:"
     ]
    },
    {
     "cell_type": "code",
     "collapsed": false,
     "input": [
      "for _ in range(10):\n",
      "    x = aleatorio()\n",
      "    print x or 0"
     ],
     "language": "python",
     "metadata": {},
     "outputs": [
      {
       "output_type": "stream",
       "stream": "stdout",
       "text": [
        "23\n",
        "23\n",
        "42\n",
        "42\n",
        "15\n",
        "1\n",
        "42\n",
        "23\n",
        "0\n",
        "0\n"
       ]
      }
     ],
     "prompt_number": 2
    },
    {
     "cell_type": "markdown",
     "metadata": {},
     "source": [
      "Caso 3: Asignaci\u00f3n de variables con condiciones ternarias\n",
      "====\n",
      "\n",
      "La asignaci\u00f3n de variables podr\u00eda depender de algunos valores relacionados en alguna otra variable. Tomando por ejemplo la misma funci\u00f3n que regresa una serie de enteros o `None`, quiz\u00e1s quisieramos asignar el valor de esa funci\u00f3n al cuadrado, siempre y cuando no sea `None`:"
     ]
    },
    {
     "cell_type": "code",
     "collapsed": false,
     "input": [
      "for _ in range(10):\n",
      "    x = aleatorio()\n",
      "    if x is None:\n",
      "        x2 = 'NaN'\n",
      "    else:\n",
      "        x2 = x **2\n",
      "    print x2"
     ],
     "language": "python",
     "metadata": {},
     "outputs": [
      {
       "output_type": "stream",
       "stream": "stdout",
       "text": [
        "1764\n",
        "1764\n",
        "1\n",
        "529\n",
        "1\n",
        "NaN\n",
        "225\n",
        "225\n",
        "1\n",
        "1\n"
       ]
      }
     ],
     "prompt_number": 3
    },
    {
     "cell_type": "markdown",
     "metadata": {},
     "source": [
      "Por algo m\u00e1s sencillo:"
     ]
    },
    {
     "cell_type": "code",
     "collapsed": false,
     "input": [
      "for _ in range(10):\n",
      "    x = aleatorio()\n",
      "    x2 = 'NaN' if x is None else x**2\n",
      "    print x2"
     ],
     "language": "python",
     "metadata": {},
     "outputs": [
      {
       "output_type": "stream",
       "stream": "stdout",
       "text": [
        "NaN\n",
        "529\n",
        "1764\n",
        "1764\n",
        "529\n",
        "529\n",
        "1\n",
        "1\n",
        "1764\n",
        "1\n"
       ]
      }
     ],
     "prompt_number": 4
    },
    {
     "cell_type": "markdown",
     "metadata": {},
     "source": [
      "Esta \u00faltima operaci\u00f3n es conocida como Expresiones Condicionales (Conditional Expressions), documentada en el [PEP-0308] y est\u00e1 disponible a partir de Python 2.5.\n",
      "[PEP-0308]: https://www.python.org/dev/peps/pep-0308/"
     ]
    },
    {
     "cell_type": "markdown",
     "metadata": {},
     "source": [
      "******\n",
      "\n",
      "Por [Espartaco Palma][espartaweb] ([@esparta][espartwitter])\n",
      "\n",
      "![Licencia Creative Commons][ccimage]\n",
      "\n",
      "Este obra est\u00e1 bajo [Licencia Creative Commons Atribuci\u00f3n 4.0 Internacional][cc].\n",
      "\n",
      "[espartwitter]: https://twitter.com/esparta/\n",
      "[espartaweb]: http://esparta.co\n",
      "[ccimage]: https://i.creativecommons.org/l/by/4.0/88x31.png \"Licencia Creative Commons\"\n",
      "[cc]: https://creativecommons.org/licenses/by/4.0/\n"
     ]
    }
   ],
   "metadata": {}
  }
 ]
}
