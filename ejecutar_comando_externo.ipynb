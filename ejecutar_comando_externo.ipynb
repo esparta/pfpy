{
 "metadata": {
  "name": "",
  "signature": "sha256:0606d1b13b0b3ddd21b009354aabcd66d8b2e771369b4bbe066f9cfa6fceb0bc"
 },
 "nbformat": 3,
 "nbformat_minor": 0,
 "worksheets": [
  {
   "cells": [
    {
     "cell_type": "markdown",
     "metadata": {},
     "source": [
      "\u00bfC\u00f3mo inicio un comando externo?\n",
      "========\n",
      "\n",
      "Here's a summary of the ways to call external programs and the advantages and disadvantages of each:\n",
      "A continuaci\u00f3n un resumen de las formas de llamar programas o comandos externos, y las ventajas y desventajas de cada uno de ellos:\n",
      "\n",
      "1.- `os.system(\"algun_comando con argumentos\")` pasa el comando y sus argumentos al shell de tu sistema. Esto es bueno porque puedes ejecutar m\u00faltiples comandos al mismo tiempo de esta forma, configurar pipes y redirecciones de entrada/salida. Por ejemplo, `os.system(\"algun_comando < archivo_entrada | otro_comando > archivo_salida\")`. Sin embargo, a pesar de que es conveniente, tienes que manipular manualmente los caracteres de escape de tu shell, tales como espacios, etc. Por otro lado, esto tambi\u00e9n te deja ejecutar comandos que son simples comandos shell y no programas externos. [vea la documentaci\u00f3n][os.system]\n",
      "\n",
      "2.- `stream = os.popen(\"algun_comando con argumentos\")` har\u00e1 lo mismo que `os.system` excepto que te da un archivo tipo objeto que puedes usar para acceder a la entrada/salida de ese proceso. Hay otras 3 variantes de `popen` que manejan la e/s un poco diferente. Si pasas todo como un string, entonces tu comando es pasado al shell; si lo pasas como un `list` entonces no necesitas preocuparte por escapar nada.[vea la documentaci\u00f3n][os.popen]\n",
      "\n",
      "3.- La clase `Popen` del m\u00f3dulo `subprocess`.  This is intended as a replacement for os.popen but has the downside of being slightly more complicated by virtue of being so comprehensive. For example, you'd say\n",
      "\n",
      "[os.system]: https://docs.python.org/2/library/os.html#os.system\n",
      "[os.popen]: https://docs.python.org/2/library/os.html#os.popen"
     ]
    },
    {
     "cell_type": "code",
     "collapsed": false,
     "input": [
      "import subprocess\n",
      "print subprocess.Popen(\"echo Hello World\", shell=True, stdout=subprocess.PIPE).stdout.read()"
     ],
     "language": "python",
     "metadata": {},
     "outputs": [
      {
       "output_type": "stream",
       "stream": "stdout",
       "text": [
        "Hello World\n",
        "\n"
       ]
      }
     ],
     "prompt_number": 4
    },
    {
     "cell_type": "markdown",
     "metadata": {},
     "source": [
      "en vez de..."
     ]
    },
    {
     "cell_type": "code",
     "collapsed": false,
     "input": [
      "import os\n",
      "print os.popen(\"echo Hello World\").read()"
     ],
     "language": "python",
     "metadata": {},
     "outputs": [
      {
       "output_type": "stream",
       "stream": "stdout",
       "text": [
        "Hello World\n",
        "\n"
       ]
      }
     ],
     "prompt_number": 5
    },
    {
     "cell_type": "markdown",
     "metadata": {},
     "source": [
      "Pero considero algo bueno tener todas las opciones unificadas en una clase, en vez de cuatro diferentes funciones `popen`. [Vea la documentaci\u00f3n][subprocess.Popen]\n",
      "\n",
      "[subprocess.Popen]: https://docs.python.org/2/library/subprocess.html#popen-constructor"
     ]
    },
    {
     "cell_type": "markdown",
     "metadata": {},
     "source": [
      "4.- La funci\u00f3n `call` del m\u00f3dulo `subprocess`. Es b\u00e1sicamente igual que la clase `Popen` y usa los mismos argumentos, pero en su lugar, espera hasta que se complete el comando y te da un c\u00f3digo de retorno [Vea la documentaci\u00f3n][subprocess.call]. Por ejemplo:\n",
      "\n",
      "[subprocess.call]: https://docs.python.org/2/library/subprocess.html#subprocess.call"
     ]
    },
    {
     "cell_type": "code",
     "collapsed": false,
     "input": [
      "return_code = subprocess.call(\"echo Hello World\", shell=True)  \n",
      "print(return_code)"
     ],
     "language": "python",
     "metadata": {},
     "outputs": [
      {
       "output_type": "stream",
       "stream": "stdout",
       "text": [
        "0\n"
       ]
      }
     ],
     "prompt_number": 6
    },
    {
     "cell_type": "markdown",
     "metadata": {},
     "source": [
      "5.- El m\u00f3dulo `os` tambi\u00e9n tiene todas las funciones fork/exec/spawn que tendr\u00edas en un programa de C, pero no recomendar\u00eda usarlas directamente.\n",
      "\n",
      "El m\u00f3dulo `subprocess` probablemente sea lo que deber\u00eda usar. La ventaja de `subprocess` vs `system` es que es m\u00e1s flexible (tienes el `stdout`, `stderr`, el c\u00f3digo \"real\" de estatus, un mejor manejo de errores, etc). Adem\u00e1s, `os.system` fue desaprobado, o lo ser\u00e1:\n",
      "\n",
      "http://docs.python.org/library/subprocess.html#replacing-older-functions-with-the-subprocess-module\n",
      "\n",
      "Finalmente, por favor toma en cuenta que todos estos m\u00e9todos el comando final es ejecutado por el shell como un `string` y eres responsable de escaparlo. Existen serias implicaciones de seguridad si alguna parte del string que pasas no puede ser confiado en su totalidad (por ejemplo, si un usuario introduce alg\u00fan/alguna parte de el sring). Si es inseguro s\u00f3lo usa este m\u00e9todo con constantes. Para darte una idea, considera este c\u00f3digo:"
     ]
    },
    {
     "cell_type": "code",
     "collapsed": false,
     "input": [
      "print subprocess.Popen(\"echo %s \" % user_input, stdout=PIPE).stdout.read()"
     ],
     "language": "python",
     "metadata": {},
     "outputs": []
    },
    {
     "cell_type": "markdown",
     "metadata": {},
     "source": [
      "e imagina que el usuario introduce \"mi mami no me amaba && rm -rf /\"."
     ]
    },
    {
     "cell_type": "markdown",
     "metadata": {},
     "source": [
      "******\n",
      "##Cr\u00e9ditos\n",
      "\n",
      "Compilaci\u00f3n de los mensajes de [StackOverflow](http://stackoverflow.com/a/92395/349420) y [2](http://stackoverflow.com/a/89243/349420), por [Eli Courtwright](http://stackoverflow.com/users/1694/eli-courtwright) y [David Cournapeau](http://stackoverflow.com/users/11465/david-cournapeau), respectivamente.\n",
      "\n",
      "Traducci\u00f3n: [Espartaco Palma][espartaweb] ([@esparta][espartwitter])\n",
      "\n",
      "![Licencia Creative Commons][ccimage]\n",
      "\n",
      "Este obra est\u00e1 bajo una licencia [Licencia Creative Commons Atribuci\u00f3n 3.0][cc].\n",
      "\n",
      "[espartwitter]: https://twitter.com/esparta/\n",
      "[espartaweb]: http://esparta.co\n",
      "[ccimage]: http://i.creativecommons.org/l/by/3.0/88x31.png \"Licencia Creative Commons\"\n",
      "[cc]: http://creativecommons.org/licenses/by/3.0/us/deed.es\n"
     ]
    }
   ],
   "metadata": {}
  }
 ]
}