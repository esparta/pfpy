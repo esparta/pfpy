{
 "metadata": {
  "name": ""
 },
 "nbformat": 3,
 "nbformat_minor": 0,
 "worksheets": [
  {
   "cells": [
    {
     "cell_type": "markdown",
     "metadata": {},
     "source": [
      "Dada una lista de n\u00fameros positivos y negativos, encontrar el n\u00famero m\u00e1s cercano al 0 (cero).\n",
      "\n",
      "Muestra de datos:\n",
      "```\n",
      "[237, 72, -18, 237, 236, 237, 60, -158, -273, -78, 492, 243]\n",
      "```"
     ]
    },
    {
     "cell_type": "code",
     "collapsed": false,
     "input": [
      "lst = [237, 72, -18, 237, 236, 237, 60, -158, -273, -78, 492, 243]\n",
      "min(lst, key=abs)"
     ],
     "language": "python",
     "metadata": {},
     "outputs": [
      {
       "metadata": {},
       "output_type": "pyout",
       "prompt_number": 1,
       "text": [
        "-18"
       ]
      }
     ],
     "prompt_number": 1
    },
    {
     "cell_type": "markdown",
     "metadata": {},
     "source": [
      "##Breve explicaci\u00f3n\n",
      "\n",
      "La funci\u00f3n `min()` tiene entre tus par\u00e1metros el paso de un \"key\" que ser\u00e1 usado para determinar el m\u00ednimo. En este caso estamos usando la funci\u00f3n `abs` que har\u00e1 *la magia*. Sin \u00e9l, el valor devuelto ser\u00eda -273 (usando la muestra de datos provista)\n",
      "\n",
      "******\n",
      "##Cr\u00e9ditos\n",
      "\n",
      "Basado en la respuesta a [Python - find integer closest to 0 in list [duplicate]][stackoverflow] de [\u00d3scar L\u00f3pez][oscarlopez]\n",
      "\n",
      "[Espartaco Palma][espartaweb] ([@esparta][espartwitter])\n",
      "\n",
      "![Licencia Creative Commons][ccimage]\n",
      "\n",
      "Este obra est\u00e1 bajo una licencia [Licencia Creative Commons Atribuci\u00f3n 3.0][cc].\n",
      "\n",
      "[stackoverflow]: http://stackoverflow.com/questions/11923657/python-find-integer-closest-to-0-in-list/11923685#11923685\n",
      "[oscarlopez]: http://stackoverflow.com/users/201359/oscar-lopez\n",
      "[espartwitter]: https://twitter.com/esparta/\n",
      "[espartaweb]: http://esparta.co\n",
      "[ccimage]: http://i.creativecommons.org/l/by/3.0/88x31.png \"Licencia Creative Commons\"\n",
      "[cc]: http://creativecommons.org/licenses/by/3.0/us/deed.es\n",
      "\n"
     ]
    }
   ],
   "metadata": {}
  }
 ]
}