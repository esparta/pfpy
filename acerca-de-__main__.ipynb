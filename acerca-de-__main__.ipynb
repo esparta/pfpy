{
 "metadata": {
  "name": ""
 },
 "nbformat": 3,
 "nbformat_minor": 0,
 "worksheets": [
  {
   "cells": [
    {
     "cell_type": "markdown",
     "metadata": {},
     "source": [
      "Cada m\u00f3dulo tiene un nombre y sus sentencias pueden encontrar el nombre de su m\u00f3dulo. Esto es especialmente \u00fatil en una situaci\u00f3n en particular. Cuando un m\u00f3dulo es importado por primera vez, se ejecuta el m\u00f3dulo principal de \u00e9se modulo. \u00bfQu\u00e9 pasa si queremos ejecutar el bloque s\u00f3lo si el programa es usado por \u00e9l mismo y no cuando es importado desde otro m\u00f3dulo? Esto se puede lograr usando el atributo `__name__`del m\u00f3dulo.\n",
      "\n",
      "## Usando el m\u00f3dulo `__name__`"
     ]
    },
    {
     "cell_type": "code",
     "collapsed": false,
     "input": [
      "#!/usr/bin/python\n",
      "# Filename: using_name.py\n",
      "\n",
      "if __name__ == '__main__':\n",
      "\tprint '\u00c9ste programa est\u00e1 siendo ejecutado el mismo'\n",
      "else:\n",
      "\tprint 'Estoy siendo importado desde otro m\u00f3dulo'"
     ],
     "language": "python",
     "metadata": {},
     "outputs": []
    },
    {
     "cell_type": "markdown",
     "metadata": {},
     "source": [
      "## Salida\n",
      "```\n",
      "$ python using_name.py\n",
      "\u00c9ste programa est\u00e1 siendo ejecutado el mismo\n",
      "\n",
      "$ python\n",
      ">>> import using_name\n",
      "Estoy siendo importado desde otro m\u00f3dulo\n",
      ">>>\n",
      "```\n",
      "\n",
      "##C\u00f3mo funciona\n",
      "\n",
      "C\u00e1da m\u00f3dulo Python tiene su variable `__name__` definido, si su valor es `'__main__'`, implica que el m\u00f3dulo est\u00e1 siendo ejecutado de forma independiente por el usuario, y podemos tomar las acciones correspondientes."
     ]
    },
    {
     "cell_type": "markdown",
     "metadata": {},
     "source": [
      "##Cr\u00e9ditos\n",
      "\n",
      "Documento original: [Using a module's __name__](https://www.ibiblio.org/g2swap/byteofpython/read/module-name.html).\n",
      "\n",
      "Traducci\u00f3n: [Espartaco Palma][espartaweb] ([@esparta][espartwitter])\n",
      "\n",
      "![Licencia Creative Commons][ccimage]\n",
      "\n",
      "Este obra est\u00e1 bajo una licencia [Licencia Creative Commons Atribuci\u00f3n-NoComercial-CompartirIgual 2.0][cc].\n",
      "\n",
      "[espartwitter]: https://twitter.com/esparta/\n",
      "[espartaweb]: http://esparta.co\n",
      "[ccimage]: https://i.creativecommons.org/l/by-nc-sa/2.0/88x31.png \"Licencia Creative Commons\"\n",
      "[cc]: https://creativecommons.org/licenses/by-nc-sa/2.0/"
     ]
    }
   ],
   "metadata": {}
  }
 ]
}
