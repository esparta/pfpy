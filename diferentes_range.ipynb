{
 "metadata": {
  "name": "",
  "signature": "sha256:30a277b73b07095dc0f64671d7935b5aef5e562a8f2e945fdb71f7ed4aa5d3cf"
 },
 "nbformat": 3,
 "nbformat_minor": 0,
 "worksheets": [
  {
   "cells": [
    {
     "cell_type": "code",
     "collapsed": false,
     "input": [
      "from __future__ import print_function"
     ],
     "language": "python",
     "metadata": {},
     "outputs": [],
     "prompt_number": 1
    },
    {
     "cell_type": "markdown",
     "metadata": {},
     "source": [
      "`irange()` retorna un generator, el cu\u00e1l s\u00f3lo puede ser iterado. Nada m\u00e1s. Una vez que termin\u00f3 la iteraci\u00f3n, el generator se vaci\u00eda y no puede ser iterado otra vez.\n",
      "\n",
      "Las funciones `xrange()` de Python 2 y `range()` de Python 3 son tipos de secuencia, soportan varias operaciones que otras secuencias tambi\u00e9n soportan, tales como reportar su longitud, revisar su contenido, e indexado:"
     ]
    },
    {
     "cell_type": "code",
     "collapsed": false,
     "input": [
      "xr = xrange(10, 20, 3)\n",
      "len(xr)"
     ],
     "language": "python",
     "metadata": {},
     "outputs": [
      {
       "metadata": {},
       "output_type": "pyout",
       "prompt_number": 2,
       "text": [
        "4"
       ]
      }
     ],
     "prompt_number": 2
    },
    {
     "cell_type": "code",
     "collapsed": false,
     "input": [
      "10 in xr\n"
     ],
     "language": "python",
     "metadata": {},
     "outputs": [
      {
       "metadata": {},
       "output_type": "pyout",
       "prompt_number": 3,
       "text": [
        "True"
       ]
      }
     ],
     "prompt_number": 3
    },
    {
     "cell_type": "code",
     "collapsed": false,
     "input": [
      "xr[0]"
     ],
     "language": "python",
     "metadata": {},
     "outputs": [
      {
       "metadata": {},
       "output_type": "pyout",
       "prompt_number": 4,
       "text": [
        "10"
       ]
      }
     ],
     "prompt_number": 4
    },
    {
     "cell_type": "code",
     "collapsed": false,
     "input": [
      "xr[1]"
     ],
     "language": "python",
     "metadata": {},
     "outputs": [
      {
       "metadata": {},
       "output_type": "pyout",
       "prompt_number": 5,
       "text": [
        "13"
       ]
      }
     ],
     "prompt_number": 5
    },
    {
     "cell_type": "raw",
     "metadata": {},
     "source": [
      "Puedes iterar sobre ellos m\u00e1s de una vez:"
     ]
    },
    {
     "cell_type": "code",
     "collapsed": false,
     "input": [
      "for i in xr:\n",
      "    print(i, end=\" \")"
     ],
     "language": "python",
     "metadata": {},
     "outputs": [
      {
       "output_type": "stream",
       "stream": "stdout",
       "text": [
        "10 13 16 19 "
       ]
      }
     ],
     "prompt_number": 6
    },
    {
     "cell_type": "code",
     "collapsed": false,
     "input": [
      "for i in xr:\n",
      "    print(i, end=\" \")"
     ],
     "language": "python",
     "metadata": {},
     "outputs": [
      {
       "output_type": "stream",
       "stream": "stdout",
       "text": [
        "10 13 16 19 "
       ]
      }
     ],
     "prompt_number": 7
    },
    {
     "cell_type": "markdown",
     "metadata": {},
     "source": [
      "Incluso puedes usar la funci\u00f3n `reversed()` para iterar sobre ellos en sentido contrario, eficientemente:"
     ]
    },
    {
     "cell_type": "code",
     "collapsed": false,
     "input": [
      "for i in reversed(xr):\n",
      "    print(i, end=\" \")"
     ],
     "language": "python",
     "metadata": {},
     "outputs": [
      {
       "output_type": "stream",
       "stream": "stdout",
       "text": [
        "19 16 13 10 "
       ]
      }
     ],
     "prompt_number": 8
    },
    {
     "cell_type": "markdown",
     "metadata": {},
     "source": [
      "El typo `range()` de Python 3 es una versi\u00f3n mejorada de `xrange()`, soporta m\u00e1s operaciones de secuencias, es a\u00fan m\u00e1s eficiente, y puede manejar valores m\u00e1s alla de sys.maxint (que ser\u00eda un entero largo en Python 2)\n",
      "\n",
      "Soporta slicing, por ejemplo, lo cu\u00e1l resulta en un nuevo objeto `range()` para los valores en el slice:\n"
     ]
    },
    {
     "cell_type": "code",
     "collapsed": false,
     "input": [
      ">>> r = range(10, 20, 3)\n",
      ">>> r[:2]\n",
      "range(10, 16, 3)"
     ],
     "language": "python",
     "metadata": {},
     "outputs": []
    },
    {
     "cell_type": "markdown",
     "metadata": {},
     "source": [
      "Puedes usar \u00edndices negativos, justo como lo puedes hacer con otras secuencias de Python para obtener elementos iniciando desde el final:"
     ]
    },
    {
     "cell_type": "code",
     "collapsed": false,
     "input": [
      ">>> r[-2]\n",
      "16\n",
      ">>> r[-2:]\n",
      "range(16, 22, 3)"
     ],
     "language": "python",
     "metadata": {},
     "outputs": []
    },
    {
     "cell_type": "markdown",
     "metadata": {},
     "source": [
      "y el tipeado soporta la comprobaci\u00f3n de equidas; dos instancias de `range()` son iguales si tienen los mismos valores:"
     ]
    },
    {
     "cell_type": "code",
     "collapsed": false,
     "input": [
      ">>> range(10, 20, 3) == range(10, 21, 3)\n",
      "True"
     ],
     "language": "python",
     "metadata": {},
     "outputs": []
    },
    {
     "cell_type": "markdown",
     "metadata": {},
     "source": [
      "En Python 2, la \u00fanica ventaja del generator `irange()` podr\u00eda radicar en que no sufre de la limitaci\u00f3n num\u00e9rica a la que est\u00e1 sujeta `xrange()`:"
     ]
    },
    {
     "cell_type": "code",
     "collapsed": false,
     "input": [
      "import sys\n",
      "xrange(sys.maxint)\n",
      "xrange(sys.maxint + 1)"
     ],
     "language": "python",
     "metadata": {},
     "outputs": [
      {
       "ename": "OverflowError",
       "evalue": "Python int too large to convert to C long",
       "output_type": "pyerr",
       "traceback": [
        "\u001b[1;31m---------------------------------------------------------------------------\u001b[0m\n\u001b[1;31mOverflowError\u001b[0m                             Traceback (most recent call last)",
        "\u001b[1;32m<ipython-input-9-5599c6b85a2b>\u001b[0m in \u001b[0;36m<module>\u001b[1;34m()\u001b[0m\n\u001b[0;32m      1\u001b[0m \u001b[1;32mimport\u001b[0m \u001b[0msys\u001b[0m\u001b[1;33m\u001b[0m\u001b[0m\n\u001b[0;32m      2\u001b[0m \u001b[0mxrange\u001b[0m\u001b[1;33m(\u001b[0m\u001b[0msys\u001b[0m\u001b[1;33m.\u001b[0m\u001b[0mmaxint\u001b[0m\u001b[1;33m)\u001b[0m\u001b[1;33m\u001b[0m\u001b[0m\n\u001b[1;32m----> 3\u001b[1;33m \u001b[0mxrange\u001b[0m\u001b[1;33m(\u001b[0m\u001b[0msys\u001b[0m\u001b[1;33m.\u001b[0m\u001b[0mmaxint\u001b[0m \u001b[1;33m+\u001b[0m \u001b[1;36m1\u001b[0m\u001b[1;33m)\u001b[0m\u001b[1;33m\u001b[0m\u001b[0m\n\u001b[0m",
        "\u001b[1;31mOverflowError\u001b[0m: Python int too large to convert to C long"
       ]
      }
     ],
     "prompt_number": 9
    },
    {
     "cell_type": "markdown",
     "metadata": {},
     "source": [
      "******\n",
      "##Cr\u00e9ditos\n",
      "\n",
      "Basado en la respuesta a [How is irange() any different from range or xrange()?][stackoverflow] de [Martijn Pieters][martijnpieters]\n",
      "\n",
      "Traducci\u00f3n de [Espartaco Palma][espartaweb] ([@esparta][espartwitter])\n",
      "\n",
      "![Licencia Creative Commons][ccimage]\n",
      "\n",
      "Este obra est\u00e1 bajo una licencia [Licencia Creative Commons Atribuci\u00f3n 3.0][cc].\n",
      "\n",
      "[stackoverflow]: https://stackoverflow.com/questions/22971078/how-is-irange-any-different-from-range-or-xrange/22971204#22971204\n",
      "[martijnpieters]: https://stackoverflow.com/users/100297/martijn-pieters\n",
      "[espartwitter]: https://twitter.com/esparta/\n",
      "[espartaweb]: http://esparta.co\n",
      "[ccimage]: https://i.creativecommons.org/l/by/3.0/88x31.png \"Licencia Creative Commons\"\n",
      "[cc]: https://creativecommons.org/licenses/by/3.0/us/deed.es\n",
      "\n"
     ]
    }
   ],
   "metadata": {}
  }
 ]
}
